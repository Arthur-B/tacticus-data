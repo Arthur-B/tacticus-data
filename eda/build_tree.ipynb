{
 "cells": [
  {
   "cell_type": "code",
   "execution_count": 11,
   "metadata": {},
   "outputs": [],
   "source": [
    "import pandas as pd\n",
    "from bigtree import Node, print_tree\n",
    "from math import isnan"
   ]
  },
  {
   "cell_type": "code",
   "execution_count": 2,
   "metadata": {},
   "outputs": [],
   "source": [
    "PATH_MAT = './data/materials_cleaned.csv'\n",
    "df = pd.read_csv(PATH_MAT, index_col=0)"
   ]
  },
  {
   "attachments": {},
   "cell_type": "markdown",
   "metadata": {},
   "source": [
    "# Test"
   ]
  },
  {
   "cell_type": "code",
   "execution_count": 8,
   "metadata": {},
   "outputs": [
    {
     "data": {
      "text/html": [
       "<div>\n",
       "<style scoped>\n",
       "    .dataframe tbody tr th:only-of-type {\n",
       "        vertical-align: middle;\n",
       "    }\n",
       "\n",
       "    .dataframe tbody tr th {\n",
       "        vertical-align: top;\n",
       "    }\n",
       "\n",
       "    .dataframe thead th {\n",
       "        text-align: right;\n",
       "    }\n",
       "</style>\n",
       "<table border=\"1\" class=\"dataframe\">\n",
       "  <thead>\n",
       "    <tr style=\"text-align: right;\">\n",
       "      <th></th>\n",
       "      <th>Item</th>\n",
       "      <th>Rarity</th>\n",
       "      <th>Stat</th>\n",
       "      <th>Craftable</th>\n",
       "      <th>Item 1</th>\n",
       "      <th>Quantity 1</th>\n",
       "      <th>Item 2</th>\n",
       "      <th>Quantity 2</th>\n",
       "      <th>Item 3</th>\n",
       "      <th>Quantity 3</th>\n",
       "      <th>Unnamed: 10</th>\n",
       "      <th>Average energy cost</th>\n",
       "    </tr>\n",
       "  </thead>\n",
       "  <tbody>\n",
       "    <tr>\n",
       "      <th>41</th>\n",
       "      <td>Adamantium Lump</td>\n",
       "      <td>Uncommon</td>\n",
       "      <td>Armour</td>\n",
       "      <td>True</td>\n",
       "      <td>Adamantium Ore</td>\n",
       "      <td>6.0</td>\n",
       "      <td>NaN</td>\n",
       "      <td>NaN</td>\n",
       "      <td>NaN</td>\n",
       "      <td>NaN</td>\n",
       "      <td>NaN</td>\n",
       "      <td>42.857143</td>\n",
       "    </tr>\n",
       "  </tbody>\n",
       "</table>\n",
       "</div>"
      ],
      "text/plain": [
       "               Item    Rarity    Stat  Craftable          Item 1  Quantity 1  \\\n",
       "41  Adamantium Lump  Uncommon  Armour       True  Adamantium Ore         6.0   \n",
       "\n",
       "   Item 2  Quantity 2 Item 3  Quantity 3 Unnamed: 10  Average energy cost  \n",
       "41    NaN         NaN    NaN         NaN         NaN            42.857143  "
      ]
     },
     "execution_count": 8,
     "metadata": {},
     "output_type": "execute_result"
    }
   ],
   "source": [
    "item = 'Adamantium Lump'\n",
    "row = df.loc[df.Item == item]\n",
    "row"
   ]
  },
  {
   "cell_type": "code",
   "execution_count": 57,
   "metadata": {},
   "outputs": [
    {
     "name": "stdout",
     "output_type": "stream",
     "text": [
      "Adamantium Lump [craftable=True, quantity=1]\n",
      "└── Adamantium Ore [craftable=False, quantity=6.0]\n"
     ]
    }
   ],
   "source": [
    "root = Node(row[\"Item\"].values[0], \n",
    "            craftable=row[\"Craftable\"].values[0],\n",
    "            quantity=1)\n",
    "\n",
    "for n in range(1, 4):\n",
    "    subitem = row[\"Item \" + str(n)].values[0]\n",
    "    if bool(subitem) and (type(subitem) != float): # Sub-item + ugly check for nan\n",
    "        child = Node(subitem,\n",
    "                     craftable=df.loc[df[\"Item\"] == subitem, \"Craftable\"].values[0],\n",
    "                     quantity=row[\"Quantity \" + str(n)].values[0], \n",
    "                     parent=root)\n",
    "        child.quantity = child.quantity * child.parent.quantity\n",
    "\n",
    "print_tree(root, attr_list=[\"craftable\", \"quantity\"])"
   ]
  },
  {
   "cell_type": "code",
   "execution_count": 64,
   "metadata": {},
   "outputs": [],
   "source": [
    "\n",
    "    "
   ]
  },
  {
   "cell_type": "code",
   "execution_count": 82,
   "metadata": {},
   "outputs": [],
   "source": []
  },
  {
   "cell_type": "code",
   "execution_count": 83,
   "metadata": {},
   "outputs": [
    {
     "name": "stdout",
     "output_type": "stream",
     "text": [
      "Tome of Arcane Knowledge [craftable=True, quantity=1]\n",
      "├── Ominous Xenos Glyphs [craftable=True, quantity=1.0]\n",
      "├── Mutation: Regenerative Blood [craftable=True, quantity=1.0]\n",
      "└── Greater Reliquary of Protection [craftable=True, quantity=1.0]\n"
     ]
    }
   ],
   "source": [
    "root = make_root('Tome of Arcane Knowledge', df)\n",
    "add_children(root, df)\n",
    "print_tree(root, attr_list=[\"craftable\", \"quantity\"])"
   ]
  },
  {
   "cell_type": "code",
   "execution_count": 73,
   "metadata": {},
   "outputs": [],
   "source": [
    "import bigtree as bt"
   ]
  },
  {
   "cell_type": "code",
   "execution_count": 76,
   "metadata": {},
   "outputs": [
    {
     "name": "stdout",
     "output_type": "stream",
     "text": [
      "Tome of Arcane Knowledge\n"
     ]
    }
   ],
   "source": []
  },
  {
   "cell_type": "code",
   "execution_count": 86,
   "metadata": {},
   "outputs": [
    {
     "name": "stdout",
     "output_type": "stream",
     "text": [
      "Tome of Arcane Knowledge [craftable=True, quantity=1]\n",
      "├── Ominous Xenos Glyphs [craftable=True, quantity=1.0]\n",
      "│   ├── Ancient Runes [craftable=False, quantity=4.0]\n",
      "│   ├── Writings [craftable=False, quantity=6.0]\n",
      "│   └── Scrolls [craftable=False, quantity=6.0]\n",
      "├── Mutation: Regenerative Blood [craftable=True, quantity=1.0]\n",
      "│   ├── Mutation: Warped Heart [craftable=False, quantity=4.0]\n",
      "│   ├── Mutation: Warped Lungs [craftable=False, quantity=6.0]\n",
      "│   └── Mutation: Warped Muscles [craftable=False, quantity=6.0]\n",
      "└── Greater Reliquary of Protection [craftable=True, quantity=1.0]\n",
      "    ├── The Phoenix Ascendant [craftable=False, quantity=4.0]\n",
      "    ├── Reliquary of Protection [craftable=False, quantity=6.0]\n",
      "    └── Lesser Reliquary of Protection [craftable=False, quantity=6.0]\n"
     ]
    }
   ],
   "source": [
    "root = make_root('Tome of Arcane Knowledge', df)\n",
    "for node in bt.levelorder_iter(root):\n",
    "    add_children(node, df)\n",
    "print_tree(root, attr_list=[\"craftable\", \"quantity\"])\n",
    "    "
   ]
  },
  {
   "cell_type": "code",
   "execution_count": null,
   "metadata": {},
   "outputs": [],
   "source": []
  }
 ],
 "metadata": {
  "kernelspec": {
   "display_name": "base",
   "language": "python",
   "name": "python3"
  },
  "language_info": {
   "codemirror_mode": {
    "name": "ipython",
    "version": 3
   },
   "file_extension": ".py",
   "mimetype": "text/x-python",
   "name": "python",
   "nbconvert_exporter": "python",
   "pygments_lexer": "ipython3",
   "version": "3.7.6"
  },
  "orig_nbformat": 4
 },
 "nbformat": 4,
 "nbformat_minor": 2
}
